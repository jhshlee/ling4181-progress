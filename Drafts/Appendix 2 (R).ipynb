{
 "cells": [
  {
   "cell_type": "markdown",
   "id": "03fffe91",
   "metadata": {},
   "source": [
    "# Appendix 2. Codes (R)\n",
    "The following codes are run in R to create Figures 1-3."
   ]
  },
  {
   "cell_type": "code",
   "execution_count": null,
   "id": "14a59ab4",
   "metadata": {},
   "outputs": [],
   "source": [
    "# importing packages/datasets and preprocessing\n",
    "library(ggplot2)\n",
    "library(cowplot)\n",
    "data <- read.csv(\"text_analysis.csv\")\n",
    "dist <- read.csv(\"length_dist.csv\")\n",
    "rownames(dist) <- dist$X\n",
    "dist2 <- as.data.frame(t(dist[,-1])) #transposing the dataframe \n",
    "dist2$num <- c(1,2,3,4,5,6,7,8,9,10,11,12,13,14,15,16,17,18)"
   ]
  },
  {
   "cell_type": "code",
   "execution_count": null,
   "id": "77337922",
   "metadata": {},
   "outputs": [],
   "source": [
    "# Figure 1 (t-t ratio)\n",
    "ratio <- ggplot(data,aes(X,ttratio))+geom_bar(stat=\"identity\")+labs(y=\"Type-token ratio\", x=\"Query(q)-Sample(s)\")\n",
    "ratio"
   ]
  },
  {
   "cell_type": "code",
   "execution_count": null,
   "id": "7df70aab",
   "metadata": {},
   "outputs": [],
   "source": [
    "# Figures 2&3 (Word length distribution)\n",
    "a1 <- ggplot(dist2,aes(num,author_a))+geom_bar(stat=\"identity\")+labs(y=\"Occurences\", x=\"Author A\")\n",
    "b1 <- ggplot(dist2,aes(num,author_b))+geom_bar(stat=\"identity\")+labs(y=\"Occurences\", x=\"Author B\")\n",
    "c1 <- ggplot(dist2,aes(num,author_c))+geom_bar(stat=\"identity\")+labs(y=\"Occurences\", x=\"Author C\")\n",
    "a2 <- ggplot(dist2,aes(num,q_a))+geom_bar(stat=\"identity\")+labs(y=\"Occurences\", x=\"Query text A\")\n",
    "b2 <- ggplot(dist2,aes(num,q_b))+geom_bar(stat=\"identity\")+labs(y=\"Occurences\", x=\"Query text B\")\n",
    "c2 <- ggplot(dist2,aes(num,q_c))+geom_bar(stat=\"identity\")+labs(y=\"Occurences\", x=\"Query text C\")\n",
    "d1 <- ggplot(dist2,aes(num,author_d))+geom_bar(stat=\"identity\")+labs(y=\"Occurences\", x=\"Author D\")\n",
    "e1 <- ggplot(dist2,aes(num,author_e))+geom_bar(stat=\"identity\")+labs(y=\"Occurences\", x=\"Author E\")\n",
    "f1 <- ggplot(dist2,aes(num,author_f))+geom_bar(stat=\"identity\")+labs(y=\"Occurences\", x=\"Author F\")\n",
    "d2 <- ggplot(dist2,aes(num,q_d))+geom_bar(stat=\"identity\")+labs(y=\"Occurences\", x=\"Query text D\")\n",
    "e2 <- ggplot(dist2,aes(num,q_e))+geom_bar(stat=\"identity\")+labs(y=\"Occurences\", x=\"Query text E\")\n",
    "f2 <- ggplot(dist2,aes(num,q_f))+geom_bar(stat=\"identity\")+labs(y=\"Occurences\", x=\"Query text F\")\n",
    "\n",
    "# Putting graphs into grids\n",
    "abc <- plot_grid(a1,b1,c1,a2,b2,c2,labels = c(\"A\",\"B\",\"C\",\"Q_A\",\"Q_B\",\"Q_C\"))\n",
    "def <- plot_grid(d1,e1,f1,d2,e2,f2,labels = c(\"D\",\"E\",\"F\",\"Q_D\",\"Q_E\",\"Q_F\"))\n",
    "abc # Figure 2\n",
    "def # Figure 3"
   ]
  }
 ],
 "metadata": {
  "kernelspec": {
   "display_name": "R",
   "language": "R",
   "name": "ir"
  },
  "language_info": {
   "codemirror_mode": "r",
   "file_extension": ".r",
   "mimetype": "text/x-r-source",
   "name": "R",
   "pygments_lexer": "r",
   "version": "4.0.5"
  }
 },
 "nbformat": 4,
 "nbformat_minor": 5
}
